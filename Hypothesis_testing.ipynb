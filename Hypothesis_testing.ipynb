{
 "cells": [
  {
   "cell_type": "markdown",
   "metadata": {},
   "source": [
    "### Hypothesis Testing\n",
    "\n",
    "Null Hypothesis: There is no difference in avg. goals/game between EPL and Bundesliga\n",
    "\n",
    "Alternative hypthesis: The English Premier League has a higher avg. goals/game ratio than the Bundesliga\n",
    "\n",
    "We used a one-tailed T-test because we did not know population means or standard devs, and were comparing if one variable was higher than another"
   ]
  },
  {
   "cell_type": "code",
   "execution_count": 1,
   "metadata": {},
   "outputs": [],
   "source": [
    "import pymongo\n",
    "import pandas as pd\n",
    "import numpy as np\n",
    "import json\n",
    "import requests\n",
    "import sqlite3\n",
    "import scipy.stats as stats\n",
    "\n",
    "cur = sqlite3.connect('database.sqlite').cursor()\n",
    "from server import *"
   ]
  },
  {
   "cell_type": "code",
   "execution_count": 9,
   "metadata": {},
   "outputs": [],
   "source": [
    "def get_matches_w_tots(season):\n",
    "    # get DF of league\n",
    "    wanted_matches = get_season_games(season)\n",
    "    \n",
    "    # append column names\n",
    "    wanted_matches.columns = [x[0] for x in cur.description]\n",
    "    \n",
    "    # get match totals\n",
    "    match_totals = []\n",
    "    num_matches = len(wanted_matches)\n",
    "    for i in range(num_matches):\n",
    "        match_totals.append(wanted_matches.iloc[i]['FTHG'] + wanted_matches.iloc[i]['FTAG'])\n",
    "        \n",
    "    # append match totals to wanted_matches df\n",
    "    wanted_matches['match_tots'] = match_totals\n",
    "    wanted_matches = wanted_matches.groupby('league')\n",
    "    return wanted_matches"
   ]
  },
  {
   "cell_type": "code",
   "execution_count": 3,
   "metadata": {},
   "outputs": [],
   "source": [
    "# return a dataframe of descriptive statistics for matches in the provided season for EPL and Bundesliga\n",
    "def get_description(season):\n",
    "    return get_matches_w_tots(season).describe()['match_tots']"
   ]
  },
  {
   "cell_type": "code",
   "execution_count": 4,
   "metadata": {},
   "outputs": [
    {
     "data": {
      "text/html": [
       "<div>\n",
       "<style scoped>\n",
       "    .dataframe tbody tr th:only-of-type {\n",
       "        vertical-align: middle;\n",
       "    }\n",
       "\n",
       "    .dataframe tbody tr th {\n",
       "        vertical-align: top;\n",
       "    }\n",
       "\n",
       "    .dataframe thead th {\n",
       "        text-align: right;\n",
       "    }\n",
       "</style>\n",
       "<table border=\"1\" class=\"dataframe\">\n",
       "  <thead>\n",
       "    <tr style=\"text-align: right;\">\n",
       "      <th></th>\n",
       "      <th>count</th>\n",
       "      <th>mean</th>\n",
       "      <th>std</th>\n",
       "      <th>min</th>\n",
       "      <th>25%</th>\n",
       "      <th>50%</th>\n",
       "      <th>75%</th>\n",
       "      <th>max</th>\n",
       "    </tr>\n",
       "    <tr>\n",
       "      <th>league</th>\n",
       "      <th></th>\n",
       "      <th></th>\n",
       "      <th></th>\n",
       "      <th></th>\n",
       "      <th></th>\n",
       "      <th></th>\n",
       "      <th></th>\n",
       "      <th></th>\n",
       "    </tr>\n",
       "  </thead>\n",
       "  <tbody>\n",
       "    <tr>\n",
       "      <td>D1</td>\n",
       "      <td>306.0</td>\n",
       "      <td>2.859477</td>\n",
       "      <td>1.678170</td>\n",
       "      <td>0.0</td>\n",
       "      <td>2.0</td>\n",
       "      <td>3.0</td>\n",
       "      <td>4.0</td>\n",
       "      <td>8.0</td>\n",
       "    </tr>\n",
       "    <tr>\n",
       "      <td>E0</td>\n",
       "      <td>380.0</td>\n",
       "      <td>2.805263</td>\n",
       "      <td>1.687756</td>\n",
       "      <td>0.0</td>\n",
       "      <td>2.0</td>\n",
       "      <td>3.0</td>\n",
       "      <td>4.0</td>\n",
       "      <td>10.0</td>\n",
       "    </tr>\n",
       "  </tbody>\n",
       "</table>\n",
       "</div>"
      ],
      "text/plain": [
       "        count      mean       std  min  25%  50%  75%   max\n",
       "league                                                     \n",
       "D1      306.0  2.859477  1.678170  0.0  2.0  3.0  4.0   8.0\n",
       "E0      380.0  2.805263  1.687756  0.0  2.0  3.0  4.0  10.0"
      ]
     },
     "execution_count": 4,
     "metadata": {},
     "output_type": "execute_result"
    }
   ],
   "source": [
    "df = get_description(2011)\n",
    "df"
   ]
  },
  {
   "cell_type": "code",
   "execution_count": 5,
   "metadata": {},
   "outputs": [],
   "source": [
    "# get t statistic and p value from EPL and Bundesliga\n",
    "def t_test(df):\n",
    "    results = stats.ttest_ind_from_stats(df['mean']['E0'], df['std']['E0'], df['count']['E0'], \n",
    "                           df['mean']['D1'], df['std']['D1'],df['count']['D1'])\n",
    "    t = results[0]\n",
    "    p = results[1]/2\n",
    "    return t, p"
   ]
  },
  {
   "cell_type": "code",
   "execution_count": 8,
   "metadata": {},
   "outputs": [
    {
     "name": "stdout",
     "output_type": "stream",
     "text": [
      "t:  -0.41926780962255317 p:  0.33757602862256464\n"
     ]
    }
   ],
   "source": [
    "t, p = t_test(get_description(2011))\n",
    "print(\"t: \", t, \"p: \", p)"
   ]
  },
  {
   "cell_type": "markdown",
   "metadata": {},
   "source": [
    "### In conclusion...\n",
    "Between 2005-2015 , the Bundesliga has an average of 0.2 more goals scored per game (p < 0.01) than the English Premier League.  Therefor, although we cannot reject our null hypothesis, we can recommend purchasing the broadcast rights to the German Bundesliga over the EPL."
   ]
  },
  {
   "cell_type": "code",
   "execution_count": 14,
   "metadata": {},
   "outputs": [
    {
     "data": {
      "text/plain": [
       "Ttest_indResult(statistic=3.690275139802319, pvalue=0.00022558963053935123)"
      ]
     },
     "execution_count": 14,
     "metadata": {},
     "output_type": "execute_result"
    }
   ],
   "source": [
    "import scipy.stats as sc\n",
    "games = get_season_games(2005)\n",
    "for i in range(2006, 2016):\n",
    "    games = pd.concat([games, get_season_games(i)])\n",
    "grouped = games.groupby('league')\n",
    "means = grouped.mean()\n",
    "means = dict(means['FTHG'] + means['FTAG'])\n",
    "std = grouped.std()\n",
    "std = dict(std['FTHG'] + std['FTAG'])\n",
    "counts = dict(grouped.count()['FTAG'])\n",
    "sc.stats.ttest_ind_from_stats(means['D1'], std['D1'], counts['D1'],\n",
    "                              means['E0'], std['E0'], counts['E0'])"
   ]
  },
  {
   "cell_type": "code",
   "execution_count": null,
   "metadata": {},
   "outputs": [],
   "source": []
  }
 ],
 "metadata": {
  "kernelspec": {
   "display_name": "Python [conda env:learn-env] *",
   "language": "python",
   "name": "conda-env-learn-env-py"
  },
  "language_info": {
   "codemirror_mode": {
    "name": "ipython",
    "version": 3
   },
   "file_extension": ".py",
   "mimetype": "text/x-python",
   "name": "python",
   "nbconvert_exporter": "python",
   "pygments_lexer": "ipython3",
   "version": "3.6.9"
  }
 },
 "nbformat": 4,
 "nbformat_minor": 4
}
